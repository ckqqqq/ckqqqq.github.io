{
 "cells": [
  {
   "cell_type": "code",
   "execution_count": null,
   "metadata": {},
   "outputs": [],
   "source": [
    "\n",
    "que1=[]\n",
    "que2=[]\n",
    "\n",
    "class stack():\n",
    "    def __init__(self):\n",
    "        self.que1=[]\n",
    "        self.que2=[]\n",
    "\n",
    "    def push(self,val):\n",
    "        self.que1.append(val)\n",
    "\n",
    "    def pop(self):\n",
    "        while len(self.que1)>1:\n",
    "            val=self.que1[0]\n",
    "            self.que1=self.que1[1:]\n",
    "            self.que2.append(val)\n",
    "\n",
    "        if len(self.que1):  \n",
    "            val=self.que1[0]\n",
    "        self.que1=self.que2.deepcopy()\n",
    "        self.qu\n",
    "        return val\n",
    "\n"
   ]
  }
 ],
 "metadata": {
  "language_info": {
   "name": "python"
  }
 },
 "nbformat": 4,
 "nbformat_minor": 2
}
